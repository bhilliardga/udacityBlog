{
 "cells": [
  {
   "cell_type": "code",
   "execution_count": 4,
   "id": "518491d7",
   "metadata": {},
   "outputs": [
    {
     "data": {
      "text/html": [
       "<div>\n",
       "<style scoped>\n",
       "    .dataframe tbody tr th:only-of-type {\n",
       "        vertical-align: middle;\n",
       "    }\n",
       "\n",
       "    .dataframe tbody tr th {\n",
       "        vertical-align: top;\n",
       "    }\n",
       "\n",
       "    .dataframe thead th {\n",
       "        text-align: right;\n",
       "    }\n",
       "</style>\n",
       "<table border=\"1\" class=\"dataframe\">\n",
       "  <thead>\n",
       "    <tr style=\"text-align: right;\">\n",
       "      <th></th>\n",
       "      <th>Fiscal Year Released</th>\n",
       "      <th>Recidivism Reporting Year</th>\n",
       "      <th>Race - Ethnicity</th>\n",
       "      <th>Age At Release</th>\n",
       "      <th>Convicting Offense Classification</th>\n",
       "      <th>Convicting Offense Type</th>\n",
       "      <th>Convicting Offense Subtype</th>\n",
       "      <th>Main Supervising District</th>\n",
       "      <th>Release Type</th>\n",
       "      <th>Release type: Paroled to Detainder united</th>\n",
       "      <th>Part of Target Population</th>\n",
       "      <th>Recidivism - Return to Prison numeric</th>\n",
       "    </tr>\n",
       "  </thead>\n",
       "  <tbody>\n",
       "    <tr>\n",
       "      <th>0</th>\n",
       "      <td>2010</td>\n",
       "      <td>2013</td>\n",
       "      <td>White - Non-Hispanic</td>\n",
       "      <td>Under 25</td>\n",
       "      <td>D Felony</td>\n",
       "      <td>Violent</td>\n",
       "      <td>Assault</td>\n",
       "      <td>4JD</td>\n",
       "      <td>Parole</td>\n",
       "      <td>Parole</td>\n",
       "      <td>Yes</td>\n",
       "      <td>1</td>\n",
       "    </tr>\n",
       "    <tr>\n",
       "      <th>1</th>\n",
       "      <td>2010</td>\n",
       "      <td>2013</td>\n",
       "      <td>White - Non-Hispanic</td>\n",
       "      <td>55 and Older</td>\n",
       "      <td>D Felony</td>\n",
       "      <td>Public Order</td>\n",
       "      <td>OWI</td>\n",
       "      <td>7JD</td>\n",
       "      <td>Parole</td>\n",
       "      <td>Parole</td>\n",
       "      <td>Yes</td>\n",
       "      <td>1</td>\n",
       "    </tr>\n",
       "    <tr>\n",
       "      <th>2</th>\n",
       "      <td>2010</td>\n",
       "      <td>2013</td>\n",
       "      <td>White - Non-Hispanic</td>\n",
       "      <td>25-34</td>\n",
       "      <td>D Felony</td>\n",
       "      <td>Property</td>\n",
       "      <td>Burglary</td>\n",
       "      <td>5JD</td>\n",
       "      <td>Parole</td>\n",
       "      <td>Parole</td>\n",
       "      <td>Yes</td>\n",
       "      <td>1</td>\n",
       "    </tr>\n",
       "    <tr>\n",
       "      <th>3</th>\n",
       "      <td>2010</td>\n",
       "      <td>2013</td>\n",
       "      <td>White - Non-Hispanic</td>\n",
       "      <td>55 and Older</td>\n",
       "      <td>C Felony</td>\n",
       "      <td>Drug</td>\n",
       "      <td>Trafficking</td>\n",
       "      <td>8JD</td>\n",
       "      <td>Parole</td>\n",
       "      <td>Parole</td>\n",
       "      <td>Yes</td>\n",
       "      <td>1</td>\n",
       "    </tr>\n",
       "    <tr>\n",
       "      <th>4</th>\n",
       "      <td>2010</td>\n",
       "      <td>2013</td>\n",
       "      <td>Black - Non-Hispanic</td>\n",
       "      <td>25-34</td>\n",
       "      <td>D Felony</td>\n",
       "      <td>Drug</td>\n",
       "      <td>Trafficking</td>\n",
       "      <td>3JD</td>\n",
       "      <td>Parole</td>\n",
       "      <td>Parole</td>\n",
       "      <td>Yes</td>\n",
       "      <td>1</td>\n",
       "    </tr>\n",
       "  </tbody>\n",
       "</table>\n",
       "</div>"
      ],
      "text/plain": [
       "   Fiscal Year Released  Recidivism Reporting Year      Race - Ethnicity  \\\n",
       "0                  2010                       2013  White - Non-Hispanic   \n",
       "1                  2010                       2013  White - Non-Hispanic   \n",
       "2                  2010                       2013  White - Non-Hispanic   \n",
       "3                  2010                       2013  White - Non-Hispanic   \n",
       "4                  2010                       2013  Black - Non-Hispanic   \n",
       "\n",
       "  Age At Release Convicting Offense Classification Convicting Offense Type  \\\n",
       "0       Under 25                          D Felony                 Violent   \n",
       "1   55 and Older                          D Felony            Public Order   \n",
       "2          25-34                          D Felony                Property   \n",
       "3   55 and Older                          C Felony                    Drug   \n",
       "4          25-34                          D Felony                    Drug   \n",
       "\n",
       "  Convicting Offense Subtype Main Supervising District Release Type  \\\n",
       "0                    Assault                       4JD       Parole   \n",
       "1                        OWI                       7JD       Parole   \n",
       "2                   Burglary                       5JD       Parole   \n",
       "3                Trafficking                       8JD       Parole   \n",
       "4                Trafficking                       3JD       Parole   \n",
       "\n",
       "  Release type: Paroled to Detainder united Part of Target Population  \\\n",
       "0                                    Parole                       Yes   \n",
       "1                                    Parole                       Yes   \n",
       "2                                    Parole                       Yes   \n",
       "3                                    Parole                       Yes   \n",
       "4                                    Parole                       Yes   \n",
       "\n",
       "   Recidivism - Return to Prison numeric  \n",
       "0                                      1  \n",
       "1                                      1  \n",
       "2                                      1  \n",
       "3                                      1  \n",
       "4                                      1  "
      ]
     },
     "execution_count": 4,
     "metadata": {},
     "output_type": "execute_result"
    }
   ],
   "source": [
    "import numpy as np\n",
    "import pandas as pd\n",
    "import matplotlib.pyplot as plt\n",
    "\n",
    "import seaborn as sns\n",
    "\n",
    "%matplotlib inline\n",
    "\n",
    "%matplotlib inline\n",
    "\n",
    "elaborated = pd.read_csv('./3-Year_Recidivism_for_Offenders_Released_from_Prison_in_Iowa_elaborated.csv')\n",
    "elaborated.head()\n",
    "\n",
    "#prison_recidivists_with_recidivism_type_only.csv\n",
    "\n",
    "\n"
   ]
  },
  {
   "cell_type": "code",
   "execution_count": 5,
   "id": "bac5703b",
   "metadata": {},
   "outputs": [
    {
     "data": {
      "text/html": [
       "<div>\n",
       "<style scoped>\n",
       "    .dataframe tbody tr th:only-of-type {\n",
       "        vertical-align: middle;\n",
       "    }\n",
       "\n",
       "    .dataframe tbody tr th {\n",
       "        vertical-align: top;\n",
       "    }\n",
       "\n",
       "    .dataframe thead th {\n",
       "        text-align: right;\n",
       "    }\n",
       "</style>\n",
       "<table border=\"1\" class=\"dataframe\">\n",
       "  <thead>\n",
       "    <tr style=\"text-align: right;\">\n",
       "      <th></th>\n",
       "      <th>Fiscal Year Released</th>\n",
       "      <th>Recidivism Reporting Year</th>\n",
       "      <th>Race - Ethnicity</th>\n",
       "      <th>Age At Release</th>\n",
       "      <th>Convicting Offense Classification</th>\n",
       "      <th>Convicting Offense Type</th>\n",
       "      <th>Convicting Offense Subtype</th>\n",
       "      <th>Release Type</th>\n",
       "      <th>Part of Target Population</th>\n",
       "      <th>Main Supervising District</th>\n",
       "      <th>Recidivism - Return to Prison</th>\n",
       "      <th>Release Type.1</th>\n",
       "      <th>Days to Recidivism</th>\n",
       "      <th>New Conviction Offense Classification</th>\n",
       "      <th>New Conviction Offense Type</th>\n",
       "      <th>New Conviction Offense Sub Type</th>\n",
       "    </tr>\n",
       "  </thead>\n",
       "  <tbody>\n",
       "    <tr>\n",
       "      <th>0</th>\n",
       "      <td>2010</td>\n",
       "      <td>2013</td>\n",
       "      <td>White - Non-Hispanic</td>\n",
       "      <td>45-54</td>\n",
       "      <td>Aggravated Misdemeanor</td>\n",
       "      <td>Public Order</td>\n",
       "      <td>Sex Offender Registry/Residency</td>\n",
       "      <td>Parole</td>\n",
       "      <td>Yes</td>\n",
       "      <td>3JD</td>\n",
       "      <td>Yes</td>\n",
       "      <td>Parole</td>\n",
       "      <td>28</td>\n",
       "      <td>D Felony</td>\n",
       "      <td>Property</td>\n",
       "      <td>Theft</td>\n",
       "    </tr>\n",
       "    <tr>\n",
       "      <th>1</th>\n",
       "      <td>2010</td>\n",
       "      <td>2013</td>\n",
       "      <td>White - Non-Hispanic</td>\n",
       "      <td>Under 25</td>\n",
       "      <td>Aggravated Misdemeanor</td>\n",
       "      <td>Property</td>\n",
       "      <td>Theft</td>\n",
       "      <td>Discharged End of Sentence</td>\n",
       "      <td>No</td>\n",
       "      <td>NaN</td>\n",
       "      <td>Yes</td>\n",
       "      <td>Discharged End of Sentence</td>\n",
       "      <td>49</td>\n",
       "      <td>C Felony</td>\n",
       "      <td>Property</td>\n",
       "      <td>Theft</td>\n",
       "    </tr>\n",
       "    <tr>\n",
       "      <th>2</th>\n",
       "      <td>2010</td>\n",
       "      <td>2013</td>\n",
       "      <td>White - Non-Hispanic</td>\n",
       "      <td>Under 25</td>\n",
       "      <td>D Felony</td>\n",
       "      <td>Drug</td>\n",
       "      <td>Trafficking</td>\n",
       "      <td>Parole</td>\n",
       "      <td>Yes</td>\n",
       "      <td>4JD</td>\n",
       "      <td>Yes</td>\n",
       "      <td>Parole</td>\n",
       "      <td>53</td>\n",
       "      <td>Aggravated Misdemeanor</td>\n",
       "      <td>Public Order</td>\n",
       "      <td>OWI</td>\n",
       "    </tr>\n",
       "    <tr>\n",
       "      <th>3</th>\n",
       "      <td>2010</td>\n",
       "      <td>2013</td>\n",
       "      <td>American Indian or Alaska Native - Non-Hispanic</td>\n",
       "      <td>25-34</td>\n",
       "      <td>D Felony</td>\n",
       "      <td>Violent</td>\n",
       "      <td>Assault</td>\n",
       "      <td>Discharged End of Sentence</td>\n",
       "      <td>No</td>\n",
       "      <td>NaN</td>\n",
       "      <td>Yes</td>\n",
       "      <td>Discharged End of Sentence</td>\n",
       "      <td>57</td>\n",
       "      <td>C Felony</td>\n",
       "      <td>Violent</td>\n",
       "      <td>Robbery</td>\n",
       "    </tr>\n",
       "    <tr>\n",
       "      <th>4</th>\n",
       "      <td>2010</td>\n",
       "      <td>2013</td>\n",
       "      <td>White - Non-Hispanic</td>\n",
       "      <td>Under 25</td>\n",
       "      <td>D Felony</td>\n",
       "      <td>Property</td>\n",
       "      <td>Vandalism</td>\n",
       "      <td>Parole</td>\n",
       "      <td>Yes</td>\n",
       "      <td>2JD</td>\n",
       "      <td>Yes</td>\n",
       "      <td>Parole</td>\n",
       "      <td>58</td>\n",
       "      <td>Aggravated Misdemeanor</td>\n",
       "      <td>Public Order</td>\n",
       "      <td>Alcohol</td>\n",
       "    </tr>\n",
       "  </tbody>\n",
       "</table>\n",
       "</div>"
      ],
      "text/plain": [
       "   Fiscal Year Released  Recidivism Reporting Year  \\\n",
       "0                  2010                       2013   \n",
       "1                  2010                       2013   \n",
       "2                  2010                       2013   \n",
       "3                  2010                       2013   \n",
       "4                  2010                       2013   \n",
       "\n",
       "                                  Race - Ethnicity Age At Release  \\\n",
       "0                             White - Non-Hispanic          45-54   \n",
       "1                             White - Non-Hispanic       Under 25   \n",
       "2                             White - Non-Hispanic       Under 25   \n",
       "3  American Indian or Alaska Native - Non-Hispanic          25-34   \n",
       "4                             White - Non-Hispanic       Under 25   \n",
       "\n",
       "  Convicting Offense Classification Convicting Offense Type  \\\n",
       "0            Aggravated Misdemeanor            Public Order   \n",
       "1            Aggravated Misdemeanor                Property   \n",
       "2                          D Felony                    Drug   \n",
       "3                          D Felony                 Violent   \n",
       "4                          D Felony                Property   \n",
       "\n",
       "        Convicting Offense Subtype                Release Type  \\\n",
       "0  Sex Offender Registry/Residency                      Parole   \n",
       "1                            Theft  Discharged End of Sentence   \n",
       "2                      Trafficking                      Parole   \n",
       "3                          Assault  Discharged End of Sentence   \n",
       "4                        Vandalism                      Parole   \n",
       "\n",
       "  Part of Target Population Main Supervising District  \\\n",
       "0                       Yes                       3JD   \n",
       "1                        No                       NaN   \n",
       "2                       Yes                       4JD   \n",
       "3                        No                       NaN   \n",
       "4                       Yes                       2JD   \n",
       "\n",
       "  Recidivism - Return to Prison              Release Type.1  \\\n",
       "0                           Yes                      Parole   \n",
       "1                           Yes  Discharged End of Sentence   \n",
       "2                           Yes                      Parole   \n",
       "3                           Yes  Discharged End of Sentence   \n",
       "4                           Yes                      Parole   \n",
       "\n",
       "   Days to Recidivism New Conviction Offense Classification  \\\n",
       "0                  28                              D Felony   \n",
       "1                  49                              C Felony   \n",
       "2                  53                Aggravated Misdemeanor   \n",
       "3                  57                              C Felony   \n",
       "4                  58                Aggravated Misdemeanor   \n",
       "\n",
       "  New Conviction Offense Type New Conviction Offense Sub Type  \n",
       "0                    Property                           Theft  \n",
       "1                    Property                           Theft  \n",
       "2                Public Order                             OWI  \n",
       "3                     Violent                         Robbery  \n",
       "4                Public Order                         Alcohol  "
      ]
     },
     "execution_count": 5,
     "metadata": {},
     "output_type": "execute_result"
    }
   ],
   "source": [
    "simple = pd.read_csv('./prison_recidivists_with_recidivism_type_only.csv')\n",
    "simple.head()"
   ]
  },
  {
   "cell_type": "code",
   "execution_count": 6,
   "id": "a35775b6",
   "metadata": {},
   "outputs": [
    {
     "data": {
      "text/plain": [
       "Index(['Fiscal Year Released', 'Recidivism Reporting Year', 'Race - Ethnicity',\n",
       "       'Age At Release', 'Convicting Offense Classification',\n",
       "       'Convicting Offense Type', 'Convicting Offense Subtype', 'Release Type',\n",
       "       'Part of Target Population', 'Main Supervising District',\n",
       "       'Recidivism - Return to Prison', 'Release Type.1', 'Days to Recidivism',\n",
       "       'New Conviction Offense Classification', 'New Conviction Offense Type',\n",
       "       'New Conviction Offense Sub Type'],\n",
       "      dtype='object')"
      ]
     },
     "execution_count": 6,
     "metadata": {},
     "output_type": "execute_result"
    }
   ],
   "source": [
    "simple.columns"
   ]
  },
  {
   "cell_type": "code",
   "execution_count": 7,
   "id": "83b5c971",
   "metadata": {},
   "outputs": [
    {
     "data": {
      "text/html": [
       "<div>\n",
       "<style scoped>\n",
       "    .dataframe tbody tr th:only-of-type {\n",
       "        vertical-align: middle;\n",
       "    }\n",
       "\n",
       "    .dataframe tbody tr th {\n",
       "        vertical-align: top;\n",
       "    }\n",
       "\n",
       "    .dataframe thead th {\n",
       "        text-align: right;\n",
       "    }\n",
       "</style>\n",
       "<table border=\"1\" class=\"dataframe\">\n",
       "  <thead>\n",
       "    <tr style=\"text-align: right;\">\n",
       "      <th></th>\n",
       "      <th>Fiscal Year Released</th>\n",
       "      <th>Recidivism Reporting Year</th>\n",
       "      <th>Race - Ethnicity</th>\n",
       "      <th>Age At Release</th>\n",
       "      <th>Convicting Offense Classification</th>\n",
       "      <th>Convicting Offense Type</th>\n",
       "      <th>Convicting Offense Subtype</th>\n",
       "      <th>Release Type</th>\n",
       "      <th>Part of Target Population</th>\n",
       "      <th>Main Supervising District</th>\n",
       "      <th>Recidivism - Return to Prison</th>\n",
       "      <th>Release Type.1</th>\n",
       "      <th>Days to Recidivism</th>\n",
       "      <th>New Conviction Offense Classification</th>\n",
       "      <th>New Conviction Offense Type</th>\n",
       "      <th>New Conviction Offense Sub Type</th>\n",
       "    </tr>\n",
       "  </thead>\n",
       "  <tbody>\n",
       "    <tr>\n",
       "      <th>10</th>\n",
       "      <td>NaN</td>\n",
       "      <td>NaN</td>\n",
       "      <td>NaN</td>\n",
       "      <td>NaN</td>\n",
       "      <td>NaN</td>\n",
       "      <td>NaN</td>\n",
       "      <td>NaN</td>\n",
       "      <td>NaN</td>\n",
       "      <td>NaN</td>\n",
       "      <td>NaN</td>\n",
       "      <td>NaN</td>\n",
       "      <td>NaN</td>\n",
       "      <td>1.0</td>\n",
       "      <td>NaN</td>\n",
       "      <td>NaN</td>\n",
       "      <td>NaN</td>\n",
       "    </tr>\n",
       "    <tr>\n",
       "      <th>13</th>\n",
       "      <td>NaN</td>\n",
       "      <td>NaN</td>\n",
       "      <td>NaN</td>\n",
       "      <td>NaN</td>\n",
       "      <td>NaN</td>\n",
       "      <td>NaN</td>\n",
       "      <td>NaN</td>\n",
       "      <td>NaN</td>\n",
       "      <td>NaN</td>\n",
       "      <td>NaN</td>\n",
       "      <td>NaN</td>\n",
       "      <td>NaN</td>\n",
       "      <td>1.0</td>\n",
       "      <td>NaN</td>\n",
       "      <td>NaN</td>\n",
       "      <td>NaN</td>\n",
       "    </tr>\n",
       "    <tr>\n",
       "      <th>14</th>\n",
       "      <td>NaN</td>\n",
       "      <td>NaN</td>\n",
       "      <td>NaN</td>\n",
       "      <td>NaN</td>\n",
       "      <td>NaN</td>\n",
       "      <td>NaN</td>\n",
       "      <td>NaN</td>\n",
       "      <td>NaN</td>\n",
       "      <td>NaN</td>\n",
       "      <td>NaN</td>\n",
       "      <td>NaN</td>\n",
       "      <td>NaN</td>\n",
       "      <td>1.0</td>\n",
       "      <td>NaN</td>\n",
       "      <td>NaN</td>\n",
       "      <td>NaN</td>\n",
       "    </tr>\n",
       "    <tr>\n",
       "      <th>15</th>\n",
       "      <td>NaN</td>\n",
       "      <td>NaN</td>\n",
       "      <td>NaN</td>\n",
       "      <td>NaN</td>\n",
       "      <td>NaN</td>\n",
       "      <td>NaN</td>\n",
       "      <td>NaN</td>\n",
       "      <td>NaN</td>\n",
       "      <td>NaN</td>\n",
       "      <td>NaN</td>\n",
       "      <td>NaN</td>\n",
       "      <td>NaN</td>\n",
       "      <td>1.0</td>\n",
       "      <td>NaN</td>\n",
       "      <td>NaN</td>\n",
       "      <td>NaN</td>\n",
       "    </tr>\n",
       "    <tr>\n",
       "      <th>16</th>\n",
       "      <td>NaN</td>\n",
       "      <td>NaN</td>\n",
       "      <td>NaN</td>\n",
       "      <td>NaN</td>\n",
       "      <td>NaN</td>\n",
       "      <td>NaN</td>\n",
       "      <td>NaN</td>\n",
       "      <td>NaN</td>\n",
       "      <td>NaN</td>\n",
       "      <td>NaN</td>\n",
       "      <td>NaN</td>\n",
       "      <td>NaN</td>\n",
       "      <td>2.0</td>\n",
       "      <td>NaN</td>\n",
       "      <td>NaN</td>\n",
       "      <td>NaN</td>\n",
       "    </tr>\n",
       "    <tr>\n",
       "      <th>...</th>\n",
       "      <td>...</td>\n",
       "      <td>...</td>\n",
       "      <td>...</td>\n",
       "      <td>...</td>\n",
       "      <td>...</td>\n",
       "      <td>...</td>\n",
       "      <td>...</td>\n",
       "      <td>...</td>\n",
       "      <td>...</td>\n",
       "      <td>...</td>\n",
       "      <td>...</td>\n",
       "      <td>...</td>\n",
       "      <td>...</td>\n",
       "      <td>...</td>\n",
       "      <td>...</td>\n",
       "      <td>...</td>\n",
       "    </tr>\n",
       "    <tr>\n",
       "      <th>Violent</th>\n",
       "      <td>NaN</td>\n",
       "      <td>NaN</td>\n",
       "      <td>NaN</td>\n",
       "      <td>NaN</td>\n",
       "      <td>NaN</td>\n",
       "      <td>1194.0</td>\n",
       "      <td>NaN</td>\n",
       "      <td>NaN</td>\n",
       "      <td>NaN</td>\n",
       "      <td>NaN</td>\n",
       "      <td>NaN</td>\n",
       "      <td>NaN</td>\n",
       "      <td>NaN</td>\n",
       "      <td>4.0</td>\n",
       "      <td>1040.0</td>\n",
       "      <td>NaN</td>\n",
       "    </tr>\n",
       "    <tr>\n",
       "      <th>Weapons</th>\n",
       "      <td>NaN</td>\n",
       "      <td>NaN</td>\n",
       "      <td>NaN</td>\n",
       "      <td>NaN</td>\n",
       "      <td>NaN</td>\n",
       "      <td>NaN</td>\n",
       "      <td>94.0</td>\n",
       "      <td>NaN</td>\n",
       "      <td>NaN</td>\n",
       "      <td>NaN</td>\n",
       "      <td>NaN</td>\n",
       "      <td>NaN</td>\n",
       "      <td>NaN</td>\n",
       "      <td>NaN</td>\n",
       "      <td>NaN</td>\n",
       "      <td>107.0</td>\n",
       "    </tr>\n",
       "    <tr>\n",
       "      <th>White - Hispanic</th>\n",
       "      <td>NaN</td>\n",
       "      <td>NaN</td>\n",
       "      <td>250.0</td>\n",
       "      <td>NaN</td>\n",
       "      <td>NaN</td>\n",
       "      <td>NaN</td>\n",
       "      <td>NaN</td>\n",
       "      <td>NaN</td>\n",
       "      <td>NaN</td>\n",
       "      <td>NaN</td>\n",
       "      <td>NaN</td>\n",
       "      <td>NaN</td>\n",
       "      <td>NaN</td>\n",
       "      <td>NaN</td>\n",
       "      <td>NaN</td>\n",
       "      <td>NaN</td>\n",
       "    </tr>\n",
       "    <tr>\n",
       "      <th>White - Non-Hispanic</th>\n",
       "      <td>NaN</td>\n",
       "      <td>NaN</td>\n",
       "      <td>4652.0</td>\n",
       "      <td>NaN</td>\n",
       "      <td>NaN</td>\n",
       "      <td>NaN</td>\n",
       "      <td>NaN</td>\n",
       "      <td>NaN</td>\n",
       "      <td>NaN</td>\n",
       "      <td>NaN</td>\n",
       "      <td>NaN</td>\n",
       "      <td>NaN</td>\n",
       "      <td>NaN</td>\n",
       "      <td>NaN</td>\n",
       "      <td>NaN</td>\n",
       "      <td>NaN</td>\n",
       "    </tr>\n",
       "    <tr>\n",
       "      <th>Yes</th>\n",
       "      <td>NaN</td>\n",
       "      <td>NaN</td>\n",
       "      <td>NaN</td>\n",
       "      <td>NaN</td>\n",
       "      <td>NaN</td>\n",
       "      <td>NaN</td>\n",
       "      <td>NaN</td>\n",
       "      <td>NaN</td>\n",
       "      <td>3713.0</td>\n",
       "      <td>NaN</td>\n",
       "      <td>6718.0</td>\n",
       "      <td>NaN</td>\n",
       "      <td>NaN</td>\n",
       "      <td>NaN</td>\n",
       "      <td>NaN</td>\n",
       "      <td>NaN</td>\n",
       "    </tr>\n",
       "  </tbody>\n",
       "</table>\n",
       "<p>1147 rows × 16 columns</p>\n",
       "</div>"
      ],
      "text/plain": [
       "                      Fiscal Year Released  Recidivism Reporting Year  \\\n",
       "10                                     NaN                        NaN   \n",
       "13                                     NaN                        NaN   \n",
       "14                                     NaN                        NaN   \n",
       "15                                     NaN                        NaN   \n",
       "16                                     NaN                        NaN   \n",
       "...                                    ...                        ...   \n",
       "Violent                                NaN                        NaN   \n",
       "Weapons                                NaN                        NaN   \n",
       "White - Hispanic                       NaN                        NaN   \n",
       "White - Non-Hispanic                   NaN                        NaN   \n",
       "Yes                                    NaN                        NaN   \n",
       "\n",
       "                      Race - Ethnicity  Age At Release  \\\n",
       "10                                 NaN             NaN   \n",
       "13                                 NaN             NaN   \n",
       "14                                 NaN             NaN   \n",
       "15                                 NaN             NaN   \n",
       "16                                 NaN             NaN   \n",
       "...                                ...             ...   \n",
       "Violent                            NaN             NaN   \n",
       "Weapons                            NaN             NaN   \n",
       "White - Hispanic                 250.0             NaN   \n",
       "White - Non-Hispanic            4652.0             NaN   \n",
       "Yes                                NaN             NaN   \n",
       "\n",
       "                      Convicting Offense Classification  \\\n",
       "10                                                  NaN   \n",
       "13                                                  NaN   \n",
       "14                                                  NaN   \n",
       "15                                                  NaN   \n",
       "16                                                  NaN   \n",
       "...                                                 ...   \n",
       "Violent                                             NaN   \n",
       "Weapons                                             NaN   \n",
       "White - Hispanic                                    NaN   \n",
       "White - Non-Hispanic                                NaN   \n",
       "Yes                                                 NaN   \n",
       "\n",
       "                      Convicting Offense Type  Convicting Offense Subtype  \\\n",
       "10                                        NaN                         NaN   \n",
       "13                                        NaN                         NaN   \n",
       "14                                        NaN                         NaN   \n",
       "15                                        NaN                         NaN   \n",
       "16                                        NaN                         NaN   \n",
       "...                                       ...                         ...   \n",
       "Violent                                1194.0                         NaN   \n",
       "Weapons                                   NaN                        94.0   \n",
       "White - Hispanic                          NaN                         NaN   \n",
       "White - Non-Hispanic                      NaN                         NaN   \n",
       "Yes                                       NaN                         NaN   \n",
       "\n",
       "                      Release Type  Part of Target Population  \\\n",
       "10                             NaN                        NaN   \n",
       "13                             NaN                        NaN   \n",
       "14                             NaN                        NaN   \n",
       "15                             NaN                        NaN   \n",
       "16                             NaN                        NaN   \n",
       "...                            ...                        ...   \n",
       "Violent                        NaN                        NaN   \n",
       "Weapons                        NaN                        NaN   \n",
       "White - Hispanic               NaN                        NaN   \n",
       "White - Non-Hispanic           NaN                        NaN   \n",
       "Yes                            NaN                     3713.0   \n",
       "\n",
       "                      Main Supervising District  \\\n",
       "10                                          NaN   \n",
       "13                                          NaN   \n",
       "14                                          NaN   \n",
       "15                                          NaN   \n",
       "16                                          NaN   \n",
       "...                                         ...   \n",
       "Violent                                     NaN   \n",
       "Weapons                                     NaN   \n",
       "White - Hispanic                            NaN   \n",
       "White - Non-Hispanic                        NaN   \n",
       "Yes                                         NaN   \n",
       "\n",
       "                      Recidivism - Return to Prison  Release Type.1  \\\n",
       "10                                              NaN             NaN   \n",
       "13                                              NaN             NaN   \n",
       "14                                              NaN             NaN   \n",
       "15                                              NaN             NaN   \n",
       "16                                              NaN             NaN   \n",
       "...                                             ...             ...   \n",
       "Violent                                         NaN             NaN   \n",
       "Weapons                                         NaN             NaN   \n",
       "White - Hispanic                                NaN             NaN   \n",
       "White - Non-Hispanic                            NaN             NaN   \n",
       "Yes                                          6718.0             NaN   \n",
       "\n",
       "                      Days to Recidivism  \\\n",
       "10                                   1.0   \n",
       "13                                   1.0   \n",
       "14                                   1.0   \n",
       "15                                   1.0   \n",
       "16                                   2.0   \n",
       "...                                  ...   \n",
       "Violent                              NaN   \n",
       "Weapons                              NaN   \n",
       "White - Hispanic                     NaN   \n",
       "White - Non-Hispanic                 NaN   \n",
       "Yes                                  NaN   \n",
       "\n",
       "                      New Conviction Offense Classification  \\\n",
       "10                                                      NaN   \n",
       "13                                                      NaN   \n",
       "14                                                      NaN   \n",
       "15                                                      NaN   \n",
       "16                                                      NaN   \n",
       "...                                                     ...   \n",
       "Violent                                                 4.0   \n",
       "Weapons                                                 NaN   \n",
       "White - Hispanic                                        NaN   \n",
       "White - Non-Hispanic                                    NaN   \n",
       "Yes                                                     NaN   \n",
       "\n",
       "                      New Conviction Offense Type  \\\n",
       "10                                            NaN   \n",
       "13                                            NaN   \n",
       "14                                            NaN   \n",
       "15                                            NaN   \n",
       "16                                            NaN   \n",
       "...                                           ...   \n",
       "Violent                                    1040.0   \n",
       "Weapons                                       NaN   \n",
       "White - Hispanic                              NaN   \n",
       "White - Non-Hispanic                          NaN   \n",
       "Yes                                           NaN   \n",
       "\n",
       "                      New Conviction Offense Sub Type  \n",
       "10                                                NaN  \n",
       "13                                                NaN  \n",
       "14                                                NaN  \n",
       "15                                                NaN  \n",
       "16                                                NaN  \n",
       "...                                               ...  \n",
       "Violent                                           NaN  \n",
       "Weapons                                         107.0  \n",
       "White - Hispanic                                  NaN  \n",
       "White - Non-Hispanic                              NaN  \n",
       "Yes                                               NaN  \n",
       "\n",
       "[1147 rows x 16 columns]"
      ]
     },
     "execution_count": 7,
     "metadata": {},
     "output_type": "execute_result"
    }
   ],
   "source": [
    "simple.apply(pd.value_counts)\n",
    "\n"
   ]
  },
  {
   "cell_type": "code",
   "execution_count": 8,
   "id": "df204aa3",
   "metadata": {},
   "outputs": [
    {
     "data": {
      "text/html": [
       "<div>\n",
       "<style scoped>\n",
       "    .dataframe tbody tr th:only-of-type {\n",
       "        vertical-align: middle;\n",
       "    }\n",
       "\n",
       "    .dataframe tbody tr th {\n",
       "        vertical-align: top;\n",
       "    }\n",
       "\n",
       "    .dataframe thead th {\n",
       "        text-align: right;\n",
       "    }\n",
       "</style>\n",
       "<table border=\"1\" class=\"dataframe\">\n",
       "  <thead>\n",
       "    <tr style=\"text-align: right;\">\n",
       "      <th></th>\n",
       "      <th>Fiscal Year Released</th>\n",
       "      <th>Recidivism Reporting Year</th>\n",
       "      <th>Days to Recidivism</th>\n",
       "    </tr>\n",
       "  </thead>\n",
       "  <tbody>\n",
       "    <tr>\n",
       "      <th>count</th>\n",
       "      <td>6718.000000</td>\n",
       "      <td>6718.000000</td>\n",
       "      <td>6718.000000</td>\n",
       "    </tr>\n",
       "    <tr>\n",
       "      <th>mean</th>\n",
       "      <td>2013.051950</td>\n",
       "      <td>2016.051950</td>\n",
       "      <td>504.142900</td>\n",
       "    </tr>\n",
       "    <tr>\n",
       "      <th>std</th>\n",
       "      <td>1.661323</td>\n",
       "      <td>1.661323</td>\n",
       "      <td>281.650896</td>\n",
       "    </tr>\n",
       "    <tr>\n",
       "      <th>min</th>\n",
       "      <td>2010.000000</td>\n",
       "      <td>2013.000000</td>\n",
       "      <td>10.000000</td>\n",
       "    </tr>\n",
       "    <tr>\n",
       "      <th>25%</th>\n",
       "      <td>2012.000000</td>\n",
       "      <td>2015.000000</td>\n",
       "      <td>269.000000</td>\n",
       "    </tr>\n",
       "    <tr>\n",
       "      <th>50%</th>\n",
       "      <td>2013.000000</td>\n",
       "      <td>2016.000000</td>\n",
       "      <td>466.000000</td>\n",
       "    </tr>\n",
       "    <tr>\n",
       "      <th>75%</th>\n",
       "      <td>2014.000000</td>\n",
       "      <td>2017.000000</td>\n",
       "      <td>721.000000</td>\n",
       "    </tr>\n",
       "    <tr>\n",
       "      <th>max</th>\n",
       "      <td>2015.000000</td>\n",
       "      <td>2018.000000</td>\n",
       "      <td>1095.000000</td>\n",
       "    </tr>\n",
       "  </tbody>\n",
       "</table>\n",
       "</div>"
      ],
      "text/plain": [
       "       Fiscal Year Released  Recidivism Reporting Year  Days to Recidivism\n",
       "count           6718.000000                6718.000000         6718.000000\n",
       "mean            2013.051950                2016.051950          504.142900\n",
       "std                1.661323                   1.661323          281.650896\n",
       "min             2010.000000                2013.000000           10.000000\n",
       "25%             2012.000000                2015.000000          269.000000\n",
       "50%             2013.000000                2016.000000          466.000000\n",
       "75%             2014.000000                2017.000000          721.000000\n",
       "max             2015.000000                2018.000000         1095.000000"
      ]
     },
     "execution_count": 8,
     "metadata": {},
     "output_type": "execute_result"
    }
   ],
   "source": [
    "#simple[3].unique()\n",
    "simple.describe()"
   ]
  },
  {
   "cell_type": "code",
   "execution_count": 9,
   "id": "69b17cd6",
   "metadata": {},
   "outputs": [
    {
     "data": {
      "text/plain": [
       "Index(['Fiscal Year Released', 'Recidivism Reporting Year', 'Race - Ethnicity',\n",
       "       'Age At Release', 'Convicting Offense Classification',\n",
       "       'Convicting Offense Type', 'Convicting Offense Subtype', 'Release Type',\n",
       "       'Part of Target Population', 'Main Supervising District',\n",
       "       'Recidivism - Return to Prison', 'Release Type.1', 'Days to Recidivism',\n",
       "       'New Conviction Offense Classification', 'New Conviction Offense Type',\n",
       "       'New Conviction Offense Sub Type'],\n",
       "      dtype='object')"
      ]
     },
     "execution_count": 9,
     "metadata": {},
     "output_type": "execute_result"
    }
   ],
   "source": [
    "simple.columns"
   ]
  },
  {
   "cell_type": "markdown",
   "id": "5d84a7d2",
   "metadata": {},
   "source": [
    "age_vals = simple.columns[1].value_counts()#Provide a pandas series of the counts for each CousinEducation status\n",
    "\n",
    "age_vals # assure this looks right"
   ]
  },
  {
   "cell_type": "markdown",
   "id": "9e530f45",
   "metadata": {},
   "source": [
    "age_vals = simple.columns[1].value_counts()#Provide a pandas series of the counts for each CousinEducation status\n",
    "\n",
    "age_vals # assure this looks right"
   ]
  },
  {
   "cell_type": "code",
   "execution_count": 11,
   "id": "fb826c26",
   "metadata": {
    "scrolled": true
   },
   "outputs": [],
   "source": [
    "age_vals = elaborated[\"Age At Release\"].value_counts()#Provide a pandas series of the counts for each CousinEducation status\n",
    "\n",
    "#age_vals # assure this looks right"
   ]
  },
  {
   "cell_type": "code",
   "execution_count": 12,
   "id": "954c91fe",
   "metadata": {},
   "outputs": [
    {
     "data": {
      "text/plain": [
       "25-34           9554\n",
       "35-44           6223\n",
       "Under 25        4590\n",
       "45-54           4347\n",
       "55 and Older    1303\n",
       "Name: Age At Release, dtype: int64"
      ]
     },
     "execution_count": 12,
     "metadata": {},
     "output_type": "execute_result"
    }
   ],
   "source": [
    "age_vals = elaborated[\"Age At Release\"].value_counts()\n",
    "age_vals"
   ]
  },
  {
   "cell_type": "code",
   "execution_count": 13,
   "id": "2db2ca22",
   "metadata": {},
   "outputs": [
    {
     "data": {
      "text/plain": [
       "25-34           0.367221\n",
       "35-44           0.239190\n",
       "Under 25        0.176423\n",
       "45-54           0.167083\n",
       "55 and Older    0.050083\n",
       "Name: Age At Release, dtype: float64"
      ]
     },
     "execution_count": 13,
     "metadata": {},
     "output_type": "execute_result"
    }
   ],
   "source": [
    "age_vals /(elaborated.shape[0] - sum(elaborated['Age At Release'].isnull()))"
   ]
  },
  {
   "cell_type": "code",
   "execution_count": 14,
   "id": "6556e5d4",
   "metadata": {},
   "outputs": [
    {
     "data": {
      "text/plain": [
       "White - Non-Hispanic                               0.676568\n",
       "Black - Non-Hispanic                               0.235052\n",
       "White - Hispanic                                   0.058561\n",
       "American Indian or Alaska Native - Non-Hispanic    0.019315\n",
       "Asian or Pacific Islander - Non-Hispanic           0.007387\n",
       "Black - Hispanic                                   0.001424\n",
       "American Indian or Alaska Native - Hispanic        0.000770\n",
       "White -                                            0.000462\n",
       "Asian or Pacific Islander - Hispanic               0.000192\n",
       "N/A -                                              0.000192\n",
       "Black -                                            0.000077\n",
       "Name: Race - Ethnicity, dtype: float64"
      ]
     },
     "execution_count": 14,
     "metadata": {},
     "output_type": "execute_result"
    }
   ],
   "source": [
    "elaborated[\"Race - Ethnicity\"].value_counts() /(elaborated.shape[0] - sum(elaborated['Race - Ethnicity'].isnull()))"
   ]
  },
  {
   "cell_type": "code",
   "execution_count": 15,
   "id": "b844b386",
   "metadata": {
    "scrolled": true
   },
   "outputs": [
    {
     "data": {
      "text/plain": [
       "D Felony                                    0.403036\n",
       "C Felony                                    0.261453\n",
       "Aggravated Misdemeanor                      0.189470\n",
       "B Felony                                    0.067832\n",
       "Felony - Enhancement to Original Penalty    0.058916\n",
       "Felony - Enhanced                           0.008455\n",
       "Serious Misdemeanor                         0.005957\n",
       "Special Sentence 2005                       0.003766\n",
       "Felony - Mandatory Minimum                  0.000423\n",
       "Other Felony                                0.000231\n",
       "A Felony                                    0.000154\n",
       "Simple Misdemeanor                          0.000115\n",
       "Other Felony (Old Code)                     0.000077\n",
       "Sexual Predator Community Supervision       0.000077\n",
       "Other Misdemeanor                           0.000038\n",
       "Name: Convicting Offense Classification, dtype: float64"
      ]
     },
     "execution_count": 15,
     "metadata": {},
     "output_type": "execute_result"
    }
   ],
   "source": [
    "elaborated[\"Convicting Offense Classification\"].value_counts() /(elaborated.shape[0] - sum(elaborated['Convicting Offense Classification'].isnull()))"
   ]
  },
  {
   "cell_type": "code",
   "execution_count": 16,
   "id": "537bb109",
   "metadata": {},
   "outputs": [
    {
     "data": {
      "text/plain": [
       "Drug            0.304189\n",
       "Property        0.283282\n",
       "Violent         0.223520\n",
       "Public Order    0.138663\n",
       "Other           0.050346\n",
       "Name: Convicting Offense Type, dtype: float64"
      ]
     },
     "execution_count": 16,
     "metadata": {},
     "output_type": "execute_result"
    }
   ],
   "source": [
    "elaborated[\"Convicting Offense Type\"].value_counts() /(elaborated.shape[0] - sum(elaborated['Convicting Offense Type'].isnull()))"
   ]
  },
  {
   "cell_type": "code",
   "execution_count": 17,
   "id": "7e5d6c7f",
   "metadata": {},
   "outputs": [
    {
     "data": {
      "text/plain": [
       "Drug            0.304189\n",
       "Property        0.283282\n",
       "Violent         0.223520\n",
       "Public Order    0.138663\n",
       "Other           0.050346\n",
       "Name: Convicting Offense Type, dtype: float64"
      ]
     },
     "execution_count": 17,
     "metadata": {},
     "output_type": "execute_result"
    }
   ],
   "source": [
    "col = \"Convicting Offense Type\"\n",
    "elaborated[col].value_counts() /(elaborated.shape[0] - sum(elaborated[col].isnull()))"
   ]
  },
  {
   "cell_type": "code",
   "execution_count": 18,
   "id": "33374b39",
   "metadata": {},
   "outputs": [
    {
     "data": {
      "text/plain": [
       "5JD                   0.303060\n",
       "1JD                   0.169536\n",
       "2JD                   0.120932\n",
       "8JD                   0.094653\n",
       "7JD                   0.092098\n",
       "3JD                   0.072267\n",
       "6JD                   0.066792\n",
       "4JD                   0.040574\n",
       "ISC                   0.021291\n",
       "Interstate Compact    0.018797\n",
       "Name: Main Supervising District, dtype: float64"
      ]
     },
     "execution_count": 18,
     "metadata": {},
     "output_type": "execute_result"
    }
   ],
   "source": [
    "col = \"Main Supervising District\"\n",
    "elaborated[col].value_counts() /(elaborated.shape[0] - sum(elaborated[col].isnull()))"
   ]
  },
  {
   "cell_type": "code",
   "execution_count": 19,
   "id": "f6e69172",
   "metadata": {},
   "outputs": [
    {
     "data": {
      "text/plain": [
       "Index(['Fiscal Year Released', 'Recidivism Reporting Year', 'Race - Ethnicity',\n",
       "       'Age At Release', 'Convicting Offense Classification',\n",
       "       'Convicting Offense Type', 'Convicting Offense Subtype',\n",
       "       'Main Supervising District', 'Release Type',\n",
       "       'Release type: Paroled to Detainder united',\n",
       "       'Part of Target Population', 'Recidivism - Return to Prison numeric'],\n",
       "      dtype='object')"
      ]
     },
     "execution_count": 19,
     "metadata": {},
     "output_type": "execute_result"
    }
   ],
   "source": [
    "elaborated.columns"
   ]
  },
  {
   "cell_type": "code",
   "execution_count": 20,
   "id": "cb910f3a",
   "metadata": {},
   "outputs": [
    {
     "data": {
      "text/plain": [
       "Parole                                 0.648075\n",
       "Discharged End of Sentence             0.303982\n",
       "Special Sentence                       0.030835\n",
       "Paroled to Detainer - Out of State     0.005648\n",
       "Paroled to Detainer - INS              0.005524\n",
       "Paroled to Detainer - U.S. Marshall    0.003174\n",
       "Paroled to Detainer - Iowa             0.002721\n",
       "Interstate Compact Parole              0.000041\n",
       "Name: Release Type, dtype: float64"
      ]
     },
     "execution_count": 20,
     "metadata": {},
     "output_type": "execute_result"
    }
   ],
   "source": [
    "col = \"Release Type\"\n",
    "elaborated[col].value_counts() /(elaborated.shape[0] - sum(elaborated[col].isnull()))"
   ]
  },
  {
   "cell_type": "code",
   "execution_count": 21,
   "id": "f6a656f5",
   "metadata": {},
   "outputs": [
    {
     "data": {
      "text/plain": [
       "Parole                        0.648116\n",
       "Discharged End of Sentence    0.303982\n",
       "Special Sentence              0.030835\n",
       "Paroled to Detainer           0.017067\n",
       "Name: Release type: Paroled to Detainder united, dtype: float64"
      ]
     },
     "execution_count": 21,
     "metadata": {},
     "output_type": "execute_result"
    }
   ],
   "source": [
    "col = \"Release type: Paroled to Detainder united\"\n",
    "elaborated[col].value_counts() /(elaborated.shape[0] - sum(elaborated[col].isnull()))"
   ]
  },
  {
   "cell_type": "code",
   "execution_count": 22,
   "id": "935e4b90",
   "metadata": {},
   "outputs": [
    {
     "data": {
      "text/plain": [
       "0    0.666372\n",
       "1    0.333628\n",
       "Name: Recidivism - Return to Prison numeric, dtype: float64"
      ]
     },
     "execution_count": 22,
     "metadata": {},
     "output_type": "execute_result"
    }
   ],
   "source": [
    "col = \"Recidivism - Return to Prison numeric\"\n",
    "elaborated[col].value_counts() /(elaborated.shape[0] - sum(elaborated[col].isnull()))"
   ]
  },
  {
   "cell_type": "code",
   "execution_count": null,
   "id": "b66405ff",
   "metadata": {},
   "outputs": [],
   "source": []
  },
  {
   "cell_type": "code",
   "execution_count": null,
   "id": "838b61a8",
   "metadata": {},
   "outputs": [],
   "source": [
    "# Fiscal Year Released\n",
    "# Fiscal year (year ending June 30) for which the offender was released from prison.\n",
    "\n",
    "# Recidivism Reporting Year\n",
    "# Fiscal year (year ending June 30) that marks the end of the 3-year tracking period. For example, offenders exited prison in FY 2012 are found in recidivism reporting year FY 2015.\n",
    "\n",
    "# Race - Ethnicity\n",
    "# Offender's Race and Ethnicity\n",
    "\n",
    "# Convicting Offense Classification\n",
    "# Maximum penalties: A Felony = Life; B Felony = 25 or 50 years; C Felony = 10 years; D Felony = 5 years; \n",
    "    # Aggravated Misdemeanor = 2 years; Serious Misdemeanor = 1 year; Simple Misdemeanor = 30 days\n",
    "\n",
    "# Convicting Offense Type\n",
    "# General category for the most serious offense for which the offender was placed in prison.\n",
    "\n",
    "# Convicting Offense Subtype\n",
    "# Further classification of the most serious offense for which the offender was placed in prison.\n",
    "\n",
    "# Release Type\n",
    "# Reasoning for Offender's release from prison.\n",
    "\n",
    "# Main Supervising District\n",
    "# The Judicial District supervising the offender for the longest time during the tracking period.\n",
    "\n",
    "# Recidivism - Return to Prison\n",
    "# No = No Recidivism;\n",
    "# Yes = Prison admission for any reason within the 3-year tracking period\n",
    "\n",
    "# Days to Recidivism\n",
    "# Number of days it took before the offender returned to prison.\n",
    "\n",
    "# New Conviction Offense Classification\n",
    "# The same as the initial offense classification.\n",
    "\n",
    "# New Conviction Offense Type\n",
    "# The same as the initial offense type.\n",
    "\n",
    "\n",
    "\n",
    "# Part of Target Population\n",
    "# The Department of Corrections has undertaken specific strategies to reduce recidivism rates for prisoners who are on parole and are part of the target population."
   ]
  },
  {
   "cell_type": "code",
   "execution_count": 25,
   "id": "0df40787",
   "metadata": {},
   "outputs": [
    {
     "data": {
      "text/plain": [
       "474     0.003126\n",
       "455     0.002828\n",
       "231     0.002679\n",
       "372     0.002679\n",
       "287     0.002679\n",
       "          ...   \n",
       "635     0.000149\n",
       "640     0.000149\n",
       "969     0.000149\n",
       "746     0.000149\n",
       "1073    0.000149\n",
       "Name: Days to Recidivism, Length: 1061, dtype: float64"
      ]
     },
     "execution_count": 25,
     "metadata": {},
     "output_type": "execute_result"
    }
   ],
   "source": [
    "col = \"Days to Recidivism\"\n",
    "simple[col].value_counts() /(simple.shape[0] - sum(simple[col].isnull()))"
   ]
  },
  {
   "cell_type": "code",
   "execution_count": 24,
   "id": "cbdf09b8",
   "metadata": {},
   "outputs": [
    {
     "data": {
      "text/plain": [
       "<AxesSubplot:>"
      ]
     },
     "execution_count": 24,
     "metadata": {},
     "output_type": "execute_result"
    },
    {
     "data": {
      "image/png": "[encoded data removed]",
      "text/plain": [
       "<Figure size 432x288 with 1 Axes>"
      ]
     },
     "metadata": {
      "needs_background": "light"
     },
     "output_type": "display_data"
    }
   ],
   "source": [
    "elaborated['Age At Release'].hist(bins=10)"
   ]
  },
  {
   "cell_type": "code",
   "execution_count": 26,
   "id": "92150583",
   "metadata": {},
   "outputs": [
    {
     "data": {
      "text/plain": [
       "<AxesSubplot:>"
      ]
     },
     "execution_count": 26,
     "metadata": {},
     "output_type": "execute_result"
    },
    {
     "data": {
      "image/png": "[encoded data removed]",
      "text/plain": [
       "<Figure size 432x288 with 1 Axes>"
      ]
     },
     "metadata": {
      "needs_background": "light"
     },
     "output_type": "display_data"
    }
   ],
   "source": [
    "simple['Days to Recidivism'].hist(bins=100)"
   ]
  },
  {
   "cell_type": "code",
   "execution_count": 28,
   "id": "09b0af84",
   "metadata": {},
   "outputs": [
    {
     "data": {
      "text/plain": [
       "0.00011529592621060722"
      ]
     },
     "execution_count": 28,
     "metadata": {},
     "output_type": "execute_result"
    }
   ],
   "source": [
    "elaborated['Age At Release'].isnull().mean() # missing values"
   ]
  },
  {
   "cell_type": "code",
   "execution_count": 29,
   "id": "9c66b870",
   "metadata": {},
   "outputs": [
    {
     "data": {
      "text/plain": [
       "Age At Release\n",
       "25-34           506.576667\n",
       "35-44           511.890464\n",
       "45-54           496.613707\n",
       "55 and Older    491.845000\n",
       "Under 25        497.323868\n",
       "Name: Days to Recidivism, dtype: float64"
      ]
     },
     "execution_count": 29,
     "metadata": {},
     "output_type": "execute_result"
    }
   ],
   "source": [
    "simple.groupby(['Age At Release']).mean()['Days to Recidivism']"
   ]
  },
  {
   "cell_type": "code",
   "execution_count": 30,
   "id": "64c8ddc2",
   "metadata": {},
   "outputs": [
    {
     "data": {
      "text/plain": [
       "Age At Release\n",
       "25-34           506.576667\n",
       "35-44           511.890464\n",
       "45-54           496.613707\n",
       "55 and Older    491.845000\n",
       "Under 25        497.323868\n",
       "Name: Days to Recidivism, dtype: float64"
      ]
     },
     "execution_count": 30,
     "metadata": {},
     "output_type": "execute_result"
    }
   ],
   "source": [
    "simple.groupby(['Age At Release']).mean()['Days to Recidivism']"
   ]
  },
  {
   "cell_type": "code",
   "execution_count": 31,
   "id": "84c03750",
   "metadata": {},
   "outputs": [
    {
     "data": {
      "text/plain": [
       "Index(['Fiscal Year Released', 'Recidivism Reporting Year', 'Race - Ethnicity',\n",
       "       'Age At Release', 'Convicting Offense Classification',\n",
       "       'Convicting Offense Type', 'Convicting Offense Subtype', 'Release Type',\n",
       "       'Part of Target Population', 'Main Supervising District',\n",
       "       'Recidivism - Return to Prison', 'Release Type.1', 'Days to Recidivism',\n",
       "       'New Conviction Offense Classification', 'New Conviction Offense Type',\n",
       "       'New Conviction Offense Sub Type'],\n",
       "      dtype='object')"
      ]
     },
     "execution_count": 31,
     "metadata": {},
     "output_type": "execute_result"
    }
   ],
   "source": [
    "simple.columns"
   ]
  },
  {
   "cell_type": "code",
   "execution_count": 32,
   "id": "c90a3918",
   "metadata": {},
   "outputs": [
    {
     "data": {
      "text/plain": [
       "Age At Release\n",
       "25-34           506.576667\n",
       "35-44           511.890464\n",
       "45-54           496.613707\n",
       "55 and Older    491.845000\n",
       "Under 25        497.323868\n",
       "Name: Days to Recidivism, dtype: float64"
      ]
     },
     "execution_count": 32,
     "metadata": {},
     "output_type": "execute_result"
    }
   ],
   "source": [
    "simple.groupby(['Age At Release']).mean()['Days to Recidivism']"
   ]
  },
  {
   "cell_type": "code",
   "execution_count": 33,
   "id": "628afa64",
   "metadata": {},
   "outputs": [],
   "source": [
    "simple['Recidivism - Return to Prison'].replace(('Yes', 'No'), (1, 0), inplace=True)"
   ]
  },
  {
   "cell_type": "code",
   "execution_count": 34,
   "id": "36a8d5a5",
   "metadata": {},
   "outputs": [
    {
     "data": {
      "text/plain": [
       "Race - Ethnicity\n",
       "American Indian or Alaska Native - Hispanic        0.300000\n",
       "American Indian or Alaska Native - Non-Hispanic    0.396414\n",
       "Asian or Pacific Islander - Hispanic               0.400000\n",
       "Asian or Pacific Islander - Non-Hispanic           0.229167\n",
       "Black -                                            0.000000\n",
       "Black - Hispanic                                   0.297297\n",
       "Black - Non-Hispanic                               0.334261\n",
       "N/A -                                              0.000000\n",
       "White -                                            0.083333\n",
       "White - Hispanic                                   0.214849\n",
       "White - Non-Hispanic                               0.344006\n",
       "Name: Recidivism - Return to Prison numeric, dtype: float64"
      ]
     },
     "execution_count": 34,
     "metadata": {},
     "output_type": "execute_result"
    }
   ],
   "source": [
    "elaborated.groupby(['Race - Ethnicity']).mean()['Recidivism - Return to Prison numeric']"
   ]
  },
  {
   "cell_type": "code",
   "execution_count": 35,
   "id": "ca73066a",
   "metadata": {},
   "outputs": [
    {
     "data": {
      "text/plain": [
       "Index(['Fiscal Year Released', 'Recidivism Reporting Year', 'Race - Ethnicity',\n",
       "       'Age At Release', 'Convicting Offense Classification',\n",
       "       'Convicting Offense Type', 'Convicting Offense Subtype',\n",
       "       'Main Supervising District', 'Release Type',\n",
       "       'Release type: Paroled to Detainder united',\n",
       "       'Part of Target Population', 'Recidivism - Return to Prison numeric'],\n",
       "      dtype='object')"
      ]
     },
     "execution_count": 35,
     "metadata": {},
     "output_type": "execute_result"
    }
   ],
   "source": [
    "elaborated.columns"
   ]
  },
  {
   "cell_type": "code",
   "execution_count": 36,
   "id": "b14740d4",
   "metadata": {},
   "outputs": [
    {
     "data": {
      "text/plain": [
       "Release Type\n",
       "Discharged End of Sentence             0.253051\n",
       "Interstate Compact Parole              0.000000\n",
       "Parole                                 0.380828\n",
       "Paroled to Detainer - INS              0.029851\n",
       "Paroled to Detainer - Iowa             0.575758\n",
       "Paroled to Detainer - Out of State     0.313869\n",
       "Paroled to Detainer - U.S. Marshall    0.064935\n",
       "Special Sentence                       0.518717\n",
       "Name: Recidivism - Return to Prison numeric, dtype: float64"
      ]
     },
     "execution_count": 36,
     "metadata": {},
     "output_type": "execute_result"
    }
   ],
   "source": [
    "elaborated.groupby(['Release Type']).mean()['Recidivism - Return to Prison numeric']"
   ]
  },
  {
   "cell_type": "code",
   "execution_count": 42,
   "id": "51799cce",
   "metadata": {},
   "outputs": [
    {
     "data": {
      "text/plain": [
       "Parole                                 0.691897\n",
       "Discharged End of Sentence             0.274969\n",
       "Special Sentence                       0.022613\n",
       "Paroled to Detainer - Out of State     0.005339\n",
       "Paroled to Detainer - Iowa             0.003926\n",
       "Paroled to Detainer - U.S. Marshall    0.000785\n",
       "Paroled to Detainer - INS              0.000471\n",
       "Name: Release Type, dtype: float64"
      ]
     },
     "execution_count": 42,
     "metadata": {},
     "output_type": "execute_result"
    }
   ],
   "source": [
    "col = \"Release Type\"\n",
    "simple[col].value_counts() /(simple.shape[0] - sum(simple[col].isnull()))"
   ]
  },
  {
   "cell_type": "code",
   "execution_count": 49,
   "id": "0ef246ef",
   "metadata": {},
   "outputs": [
    {
     "data": {
      "text/plain": [
       "Parole                                 15721\n",
       "Discharged End of Sentence              7374\n",
       "Special Sentence                         748\n",
       "Paroled to Detainer - Out of State       137\n",
       "Paroled to Detainer - INS                134\n",
       "Paroled to Detainer - U.S. Marshall       77\n",
       "Paroled to Detainer - Iowa                66\n",
       "Interstate Compact Parole                  1\n",
       "Name: Release Type, dtype: int64"
      ]
     },
     "execution_count": 49,
     "metadata": {},
     "output_type": "execute_result"
    }
   ],
   "source": [
    "col = \"Release Type\"\n",
    "#sum(simple[col].isnull())\n",
    "elaborated[col].value_counts()"
   ]
  },
  {
   "cell_type": "code",
   "execution_count": 43,
   "id": "d6b86085",
   "metadata": {},
   "outputs": [
    {
     "data": {
      "text/plain": [
       "6718"
      ]
     },
     "execution_count": 43,
     "metadata": {},
     "output_type": "execute_result"
    }
   ],
   "source": [
    "simple.shape[0]"
   ]
  },
  {
   "cell_type": "code",
   "execution_count": 48,
   "id": "4509a238",
   "metadata": {},
   "outputs": [
    {
     "data": {
      "text/html": [
       "<div>\n",
       "<style scoped>\n",
       "    .dataframe tbody tr th:only-of-type {\n",
       "        vertical-align: middle;\n",
       "    }\n",
       "\n",
       "    .dataframe tbody tr th {\n",
       "        vertical-align: top;\n",
       "    }\n",
       "\n",
       "    .dataframe thead th {\n",
       "        text-align: right;\n",
       "    }\n",
       "</style>\n",
       "<table border=\"1\" class=\"dataframe\">\n",
       "  <thead>\n",
       "    <tr style=\"text-align: right;\">\n",
       "      <th></th>\n",
       "      <th>Fiscal Year Released</th>\n",
       "      <th>Recidivism Reporting Year</th>\n",
       "      <th>Recidivism - Return to Prison numeric</th>\n",
       "    </tr>\n",
       "    <tr>\n",
       "      <th>Release Type</th>\n",
       "      <th></th>\n",
       "      <th></th>\n",
       "      <th></th>\n",
       "    </tr>\n",
       "  </thead>\n",
       "  <tbody>\n",
       "    <tr>\n",
       "      <th>Discharged End of Sentence</th>\n",
       "      <td>2011.931787</td>\n",
       "      <td>2014.931787</td>\n",
       "      <td>0.253051</td>\n",
       "    </tr>\n",
       "    <tr>\n",
       "      <th>Interstate Compact Parole</th>\n",
       "      <td>2012.000000</td>\n",
       "      <td>2015.000000</td>\n",
       "      <td>0.000000</td>\n",
       "    </tr>\n",
       "    <tr>\n",
       "      <th>Parole</th>\n",
       "      <td>2012.710451</td>\n",
       "      <td>2015.710451</td>\n",
       "      <td>0.380828</td>\n",
       "    </tr>\n",
       "    <tr>\n",
       "      <th>Paroled to Detainer - INS</th>\n",
       "      <td>2013.791045</td>\n",
       "      <td>2016.791045</td>\n",
       "      <td>0.029851</td>\n",
       "    </tr>\n",
       "    <tr>\n",
       "      <th>Paroled to Detainer - Iowa</th>\n",
       "      <td>2013.757576</td>\n",
       "      <td>2016.757576</td>\n",
       "      <td>0.575758</td>\n",
       "    </tr>\n",
       "    <tr>\n",
       "      <th>Paroled to Detainer - Out of State</th>\n",
       "      <td>2014.182482</td>\n",
       "      <td>2017.182482</td>\n",
       "      <td>0.313869</td>\n",
       "    </tr>\n",
       "    <tr>\n",
       "      <th>Paroled to Detainer - U.S. Marshall</th>\n",
       "      <td>2014.090909</td>\n",
       "      <td>2017.090909</td>\n",
       "      <td>0.064935</td>\n",
       "    </tr>\n",
       "    <tr>\n",
       "      <th>Special Sentence</th>\n",
       "      <td>2012.836898</td>\n",
       "      <td>2015.836898</td>\n",
       "      <td>0.518717</td>\n",
       "    </tr>\n",
       "  </tbody>\n",
       "</table>\n",
       "</div>"
      ],
      "text/plain": [
       "                                     Fiscal Year Released  \\\n",
       "Release Type                                                \n",
       "Discharged End of Sentence                    2011.931787   \n",
       "Interstate Compact Parole                     2012.000000   \n",
       "Parole                                        2012.710451   \n",
       "Paroled to Detainer - INS                     2013.791045   \n",
       "Paroled to Detainer - Iowa                    2013.757576   \n",
       "Paroled to Detainer - Out of State            2014.182482   \n",
       "Paroled to Detainer - U.S. Marshall           2014.090909   \n",
       "Special Sentence                              2012.836898   \n",
       "\n",
       "                                     Recidivism Reporting Year  \\\n",
       "Release Type                                                     \n",
       "Discharged End of Sentence                         2014.931787   \n",
       "Interstate Compact Parole                          2015.000000   \n",
       "Parole                                             2015.710451   \n",
       "Paroled to Detainer - INS                          2016.791045   \n",
       "Paroled to Detainer - Iowa                         2016.757576   \n",
       "Paroled to Detainer - Out of State                 2017.182482   \n",
       "Paroled to Detainer - U.S. Marshall                2017.090909   \n",
       "Special Sentence                                   2015.836898   \n",
       "\n",
       "                                     Recidivism - Return to Prison numeric  \n",
       "Release Type                                                                \n",
       "Discharged End of Sentence                                        0.253051  \n",
       "Interstate Compact Parole                                         0.000000  \n",
       "Parole                                                            0.380828  \n",
       "Paroled to Detainer - INS                                         0.029851  \n",
       "Paroled to Detainer - Iowa                                        0.575758  \n",
       "Paroled to Detainer - Out of State                                0.313869  \n",
       "Paroled to Detainer - U.S. Marshall                               0.064935  \n",
       "Special Sentence                                                  0.518717  "
      ]
     },
     "execution_count": 48,
     "metadata": {},
     "output_type": "execute_result"
    }
   ],
   "source": [
    "elaborated.groupby(['Release Type']).mean()"
   ]
  },
  {
   "cell_type": "code",
   "execution_count": null,
   "id": "57bd46fc",
   "metadata": {},
   "outputs": [],
   "source": []
  }
 ],
 "metadata": {
  "kernelspec": {
   "display_name": "Python 3 (ipykernel)",
   "language": "python",
   "name": "python3"
  },
  "language_info": {
   "codemirror_mode": {
    "name": "ipython",
    "version": 3
   },
   "file_extension": ".py",
   "mimetype": "text/x-python",
   "name": "python",
   "nbconvert_exporter": "python",
   "pygments_lexer": "ipython3",
   "version": "3.9.7"
  }
 },
 "nbformat": 4,
 "nbformat_minor": 5
}
